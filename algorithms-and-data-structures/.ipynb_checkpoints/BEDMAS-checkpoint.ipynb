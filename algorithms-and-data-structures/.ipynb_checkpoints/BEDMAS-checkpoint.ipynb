{
 "cells": [
  {
   "cell_type": "code",
   "execution_count": 63,
   "metadata": {
    "ExecuteTime": {
     "end_time": "2021-01-29T14:44:12.642360Z",
     "start_time": "2021-01-29T14:44:12.636666Z"
    }
   },
   "outputs": [],
   "source": [
    "from typing import List\n",
    "import re\n",
    "from collections import deque\n",
    "import string"
   ]
  },
  {
   "cell_type": "markdown",
   "metadata": {},
   "source": [
    "# Introduction\n",
    "---\n",
    "The goal of this project is to develop a tree-structure algorithm that parses any mathematical expresion, and eventually evaluates it. The actual term for tree implementations for arithmetic are called *Expression Trees*. The end goal of this notebook is to have some software that can perform the following:\n",
    "\n",
    "```python\n",
    "evaluate(\"(2 * 3) + 2)\") == 8\n",
    "evaluate(\"(2^3)*2)\")     == 16\n",
    "```\n",
    "\n",
    "In short, we writing some bare bones code that is capable of evaluating string representations of mathematical formulae. To start, we first need to write a simple `Tree` class that stores `Nodes` within the expression hierarachy.\n",
    "\n",
    "# Tree\n",
    "---\n",
    "The `Tree` class is pretty straightforward. "
   ]
  },
  {
   "cell_type": "code",
   "execution_count": null,
   "metadata": {},
   "outputs": [],
   "source": [
    "class Tree:\n",
    "    \n",
    "    def __init__(self,data,left=None,right=None):\n",
    "        self.data  = data\n",
    "        self.left  = left\n",
    "        self.right = right"
   ]
  },
  {
   "cell_type": "markdown",
   "metadata": {},
   "source": [
    "# Text Processing\n",
    "---"
   ]
  },
  {
   "cell_type": "code",
   "execution_count": 71,
   "metadata": {
    "ExecuteTime": {
     "end_time": "2021-01-29T14:59:25.991321Z",
     "start_time": "2021-01-29T14:59:25.983043Z"
    }
   },
   "outputs": [],
   "source": [
    "OPERATORS = \"+-*/^\"\n",
    "\n",
    "def condense(string):\n",
    "    return string.replace(\" \",\"\")\n",
    "assert condense(\"Hello World\") == \"HelloWorld\"\n",
    "\n",
    "def tokenize(eq:str):\n",
    "    return list(condense(eq))"
   ]
  },
  {
   "cell_type": "markdown",
   "metadata": {},
   "source": [
    "# Equation Parsing\n",
    "---"
   ]
  },
  {
   "cell_type": "code",
   "execution_count": null,
   "metadata": {},
   "outputs": [],
   "source": [
    "def components(tokens:List[str]):\n",
    "    stack = deque([])\n",
    "    \n",
    "    for t in tokens:\n",
    "        \n",
    "        if t in OPERATORS:\n",
    "            stack.append(t)\n",
    "            \n",
    "        elif t.isnumeric():\n",
    "            stack.append(Tree(float(t)))\n",
    "            \n",
    "        elif t == ')':\n",
    "            right = stack.pop()\n",
    "            op = stack.pop()\n",
    "            left = stack.pop()\n",
    "            stack.append(Tree(op,left,right))\n",
    "    return stack"
   ]
  }
 ],
 "metadata": {
  "kernelspec": {
   "display_name": "mini-games",
   "language": "python",
   "name": "mini-games"
  },
  "language_info": {
   "codemirror_mode": {
    "name": "ipython",
    "version": 3
   },
   "file_extension": ".py",
   "mimetype": "text/x-python",
   "name": "python",
   "nbconvert_exporter": "python",
   "pygments_lexer": "ipython3",
   "version": "3.9.1"
  },
  "latex_envs": {
   "LaTeX_envs_menu_present": true,
   "autoclose": false,
   "autocomplete": true,
   "bibliofile": "biblio.bib",
   "cite_by": "apalike",
   "current_citInitial": 1,
   "eqLabelWithNumbers": true,
   "eqNumInitial": 1,
   "hotkeys": {
    "equation": "Ctrl-E",
    "itemize": "Ctrl-I"
   },
   "labels_anchors": false,
   "latex_user_defs": false,
   "report_style_numbering": false,
   "user_envs_cfg": false
  },
  "toc": {
   "base_numbering": 1,
   "nav_menu": {},
   "number_sections": true,
   "sideBar": true,
   "skip_h1_title": false,
   "title_cell": "Table of Contents",
   "title_sidebar": "Contents",
   "toc_cell": false,
   "toc_position": {},
   "toc_section_display": true,
   "toc_window_display": false
  }
 },
 "nbformat": 4,
 "nbformat_minor": 2
}
