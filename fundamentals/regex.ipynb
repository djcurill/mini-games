{
 "cells": [
  {
   "cell_type": "code",
   "execution_count": 162,
   "metadata": {
    "ExecuteTime": {
     "end_time": "2021-01-25T18:12:04.009602Z",
     "start_time": "2021-01-25T18:12:04.005782Z"
    }
   },
   "outputs": [],
   "source": [
    "# This is all we need!\n",
    "import re \n",
    "import string"
   ]
  },
  {
   "cell_type": "markdown",
   "metadata": {},
   "source": [
    "# Introduction\n",
    "---\n",
    "Learning the way of regular expressions is a daunting task, that being said, it is a useful skill for all text processing related tasks. Regular expressions are what power our belove `command + F` we use on a daily basis to avoid reading the extra fat of an article. Cut to the chase!!\n",
    "\n",
    "This notebook walks through the fundamentals of the regex module, and serves as a brief introduction. It by no means is a comprehensive walkthrough of RegEx and all of its capabilities, but it should be enough to get you on your way.\n",
    "\n",
    "# What are Regular Expressions?\n",
    "---\n",
    "In my own words, regular expressions are used for scraping strings for specific patterns. These patterns are determined through a syntax defined by the regular expression search language. I like to think of it as a more flexible implementation of the `string.find()` method. If you don't know what `string.find()` does, find out by playing with the code cell below. It will search the sentence `s` (a haystack) in attempt to find `needle`. If the `needle` is found, it returns the index of the string locating its occurance. If there are no occurrences, the `find()` method will return -1."
   ]
  },
  {
   "cell_type": "code",
   "execution_count": 2,
   "metadata": {
    "ExecuteTime": {
     "end_time": "2021-01-25T15:15:28.901890Z",
     "start_time": "2021-01-25T15:15:28.891639Z"
    }
   },
   "outputs": [
    {
     "name": "stdout",
     "output_type": "stream",
     "text": [
      "Question: Is there a needle in the haystack? \n",
      "Answer: True\n"
     ]
    }
   ],
   "source": [
    "s = 'it is like searching for a needle in a haystack'\n",
    "answer = s.find('needle') > -1\n",
    "print(f'Question: Is there a needle in the haystack? \\nAnswer: {answer}')"
   ]
  },
  {
   "cell_type": "markdown",
   "metadata": {},
   "source": [
    "The find method is really simple and easy to use (elegance!!). I use this all the time for quick and dirty scripts, but it does not generalize well."
   ]
  },
  {
   "cell_type": "markdown",
   "metadata": {},
   "source": [
    "## A Quick Case Study\n",
    "----\n",
    "Suppose you want to extract a phone number from a paragraph of text. You could try and write some code using the `string.find()` method.\n",
    "\n",
    "You can see right away that a simple `p.find('867-5309')` will do the trick. The solution is simple, and only takes up one line of code. The downside is, you need to know the exact phone number you are looking for. It can't search for ANY phone number, just a specific instance. To become a better developer, you must think generally. How can more people use this software to their advantage?\n",
    "\n",
    "When it comes to word / string applications, regex is is right the tool for generalizing code."
   ]
  },
  {
   "cell_type": "code",
   "execution_count": 3,
   "metadata": {
    "ExecuteTime": {
     "end_time": "2021-01-25T15:16:55.595813Z",
     "start_time": "2021-01-25T15:16:55.583154Z"
    }
   },
   "outputs": [
    {
     "data": {
      "text/plain": [
       "'We found jenny'"
      ]
     },
     "execution_count": 3,
     "metadata": {},
     "output_type": "execute_result"
    }
   ],
   "source": [
    "lyrics = 'Eight six seven five three oh nine \\n' \\\n",
    "'Jenny jenny you\\'re the girl for me \\n' \\\n",
    "'You don\\'t know me but you make me so happy \\n' \\\n",
    "'I tried to call you before but I lost my nerve \\n' \\\n",
    "'I tried my imagination but I was disturbed \\n' \\\n",
    "'8675309'\n",
    "\n",
    "find_jenny = lambda x: 'We found jenny' if x.find('8675309') > 0 else 'Hullo?'\n",
    "find_jenny(lyrics)"
   ]
  },
  {
   "cell_type": "markdown",
   "metadata": {},
   "source": [
    "## Generalize s.find() to Any Phone Number\n",
    "---\n",
    "If you wanted to extract any instance of a phone number, it would need to run through ALL possible permutations of a phone number which is approximately $9 * 10^7$ (assuming you can't have 0 as a valid first entry for a phone number).\n",
    "\n",
    "```python\n",
    "paragraph.find('1112223333') # --> Nope\n",
    "paraghraph.find('1112223334') # --> Try again\n",
    "# You get the point...\n",
    "```\n",
    "\n",
    "I refuse to write such a function, when I can instead invest a bit of time to learn to regex module. While we learn the daunting syntax of Regular Expressions, please keep this use case in the back of your mind. Hopefully by the end of this notebook we will have some simple code capable of finding ANY phone number in a paragraph of text. "
   ]
  },
  {
   "cell_type": "markdown",
   "metadata": {
    "ExecuteTime": {
     "end_time": "2021-01-08T18:50:48.701314Z",
     "start_time": "2021-01-08T18:50:48.697466Z"
    }
   },
   "source": [
    "# Square One\n",
    "---\n",
    "We have already imported the regular expression module (see the very first cell). When working with regular expressions, we must operate on [raw strings](https://www.codevscolor.com/python-raw-string#:~:text=raw%20strings%20are%20raw%20string,n%E2%80%9D%20as%20a%20normal%20character.). To define a raw string, we just put an `r` on the outer left side of a string quotation. See for example:\n",
    "\n",
    "```python\n",
    "raw =    r'This is a raw string'\n",
    "normal = 'This is a normal string'\n",
    "```\n",
    "\n",
    "Raw strings allow us to treat back slashes as *literal* characters. The code cell below shows by example the difference in behaviour between a raw string and a normal string when a backslash is present."
   ]
  },
  {
   "cell_type": "code",
   "execution_count": 4,
   "metadata": {
    "ExecuteTime": {
     "end_time": "2021-01-25T15:21:35.034040Z",
     "start_time": "2021-01-25T15:21:35.030565Z"
    }
   },
   "outputs": [
    {
     "name": "stdout",
     "output_type": "stream",
     "text": [
      "The backslash is a literal string: \\n \n",
      "\n",
      "The backslash creates a new line in a normal string: \n",
      "Pretty cool!\n"
     ]
    }
   ],
   "source": [
    "s = r'The backslash is a literal string: \\n'\n",
    "print(s,'\\n')\n",
    "s = 'The backslash creates a new line in a normal string: \\nPretty cool!'\n",
    "print(s)"
   ]
  },
  {
   "cell_type": "markdown",
   "metadata": {},
   "source": [
    "# Findall\n",
    "---\n",
    "The most common regex function to use is the `findall(pattern, string)` function. Given a *raw* string as a `pattern`, it will search for all sub strings in `string` that match the `pattern`. Let's use this function to discover some digits in a string. "
   ]
  },
  {
   "cell_type": "code",
   "execution_count": 380,
   "metadata": {
    "ExecuteTime": {
     "end_time": "2021-01-25T23:58:37.085941Z",
     "start_time": "2021-01-25T23:58:37.081882Z"
    }
   },
   "outputs": [
    {
     "data": {
      "text/plain": [
       "['1', '2', '3', '4']"
      ]
     },
     "execution_count": 380,
     "metadata": {},
     "output_type": "execute_result"
    }
   ],
   "source": [
    "re.findall(r'[0-9]','1,2,3,4 tell me that you love me more!')"
   ]
  },
  {
   "cell_type": "markdown",
   "metadata": {},
   "source": [
    "Using some simple syntax, we found all instances of SINGLE digit numbers using the following line of code. Just imagine the code we would have had to come up with using `string.find()` to do this simple task! Let's break it down:\n",
    "\n",
    "```python\n",
    "pattern = r'[0-9]' # regular expression pattern\n",
    "```\n",
    "1. The `'r'` signifies the instantiation of a raw string (sounding like a broken record here, but repetition matters)\n",
    "2. The square brackets represent a character class (i.e. a grouping of a specific characters)\n",
    "3. The hyphen denotes a range (i.e. any digit from 0 to 9). This is called the *Range Operator* (remember this term, because we are going to talk about it shortly).\n",
    "\n",
    "I find all of this to be straight forward except maybe the *character class* idea. Let's run through some more examples to solidify this idea. \n",
    "\n",
    "## Character Class Example 1\n",
    "---\n",
    "We can use the character class to spell check alternative ways of writing the same word. For example, did you know we can spell ambience as *ambiance*. If we wanted to find all instances of this word in a document, we would have to account for both ways of spelling it. That is made easy with regex and character classes! "
   ]
  },
  {
   "cell_type": "code",
   "execution_count": 6,
   "metadata": {
    "ExecuteTime": {
     "end_time": "2021-01-25T15:25:19.993617Z",
     "start_time": "2021-01-25T15:25:19.989652Z"
    }
   },
   "outputs": [
    {
     "name": "stdout",
     "output_type": "stream",
     "text": [
      "Find me all instances of ambience/ambiance in this absurd text\n",
      "Here you go: ['ambience', 'ambiance']\n"
     ]
    }
   ],
   "source": [
    "p = 'Snobby British Person: The ambience is this room is to die for.'\\\n",
    "'I just looooove the word ambiance.' # An absurd piece of text\n",
    "result = re.findall(r'ambi[ae]nce',p)\n",
    "\n",
    "print('Find me all instances of ambience/ambiance in this absurd text')\n",
    "print(f'Here you go: {result}')"
   ]
  },
  {
   "cell_type": "markdown",
   "metadata": {},
   "source": [
    "## Character Class Example 2\n",
    "---\n",
    "To explain character classes using a different approach, we will write the equivalent of `r[0-9]` in its full form. Clearly the range operator (the hyphen) is more concise, but I think this example sufficiently explains what the character class is asking of the regex module.\n",
    "> `r'[0123456789]'` -->  *find me all occurences where the numbers in the character class [0123456789] occur in a string*"
   ]
  },
  {
   "cell_type": "code",
   "execution_count": 7,
   "metadata": {
    "ExecuteTime": {
     "end_time": "2021-01-25T15:29:04.620409Z",
     "start_time": "2021-01-25T15:29:04.616003Z"
    }
   },
   "outputs": [
    {
     "data": {
      "text/plain": [
       "['0', '1', '0', '1', '2', '0', '2', '0']"
      ]
     },
     "execution_count": 7,
     "metadata": {},
     "output_type": "execute_result"
    }
   ],
   "source": [
    "pattern = r'[0123456789]'\n",
    "re.findall(pattern, '01-01-2020')"
   ]
  },
  {
   "cell_type": "markdown",
   "metadata": {},
   "source": [
    "# Extending the Range Operator to Letters\n",
    "---\n",
    "The range operator is a concise notation to include all elements within an ordered sequence. Examples of ordered sequences include numbers ranging from 0 to 9, or all lowercase letters a to z.\n",
    "\n",
    "**The Takeaway:** The range operator isn't only for digits, it applies to alphabetical ordering. For concreteness, see the following example. The pattern `'r[a-z]'` will return every single lowercase letter from a to z."
   ]
  },
  {
   "cell_type": "code",
   "execution_count": 9,
   "metadata": {
    "ExecuteTime": {
     "end_time": "2021-01-25T15:34:55.677748Z",
     "start_time": "2021-01-25T15:34:55.674431Z"
    }
   },
   "outputs": [
    {
     "name": "stdout",
     "output_type": "stream",
     "text": [
      "['e', 'v', 'e', 'r', 'y', 'l', 'e', 't', 't', 'e', 'r']\n"
     ]
    }
   ],
   "source": [
    "anyletter = r'[a-z]'\n",
    "print(re.findall(anyletter,'every letter'))"
   ]
  },
  {
   "cell_type": "markdown",
   "metadata": {},
   "source": [
    "# Combining Expressions\n",
    "---\n",
    "We know how to extract single digits and letters. Now let's combine two regular expressions to retrieve two digit numbers. The code below will extract '99' from the '999' substring. Of course if we wanted to change to extract 3 digits, we can just add another `r'[0-9]'` to the mix. "
   ]
  },
  {
   "cell_type": "code",
   "execution_count": 10,
   "metadata": {
    "ExecuteTime": {
     "end_time": "2021-01-25T15:35:26.580061Z",
     "start_time": "2021-01-25T15:35:26.576531Z"
    }
   },
   "outputs": [
    {
     "name": "stdout",
     "output_type": "stream",
     "text": [
      "['99', '99']\n"
     ]
    }
   ],
   "source": [
    "beer = re.findall(r'[0-9][0-9]','999 bottles of beer on the wall, 999 bottles of beer...')\n",
    "print(beer)"
   ]
  },
  {
   "cell_type": "markdown",
   "metadata": {},
   "source": [
    "## Example: Compound Expressions for Phone Numbers\n",
    "---\n",
    "By now it should be setting in that we have enough information to scrape some phone numbers. I can't guarantee this will be a pretty solution, but it gets us a little closer to where we want to go."
   ]
  },
  {
   "cell_type": "code",
   "execution_count": 10,
   "metadata": {
    "ExecuteTime": {
     "end_time": "2021-01-09T00:06:15.992786Z",
     "start_time": "2021-01-09T00:06:15.988301Z"
    }
   },
   "outputs": [
    {
     "name": "stdout",
     "output_type": "stream",
     "text": [
      "Sing it with me now! 8675309\n"
     ]
    }
   ],
   "source": [
    "print('Sing it with me now!',''.join(re.findall(r'[0-9]'*7,lyrics)))"
   ]
  },
  {
   "cell_type": "markdown",
   "metadata": {},
   "source": [
    "Here we multiplied the string by `7` to perform a search for 7 single digits. It was that easy! Now we have some rough code that can find 7 digit numbers within a mountain of text. Problem is, what happens if a number appears as such: *867-5309* or *867 5309*? Both are common ways of spelling phone numbers... Looks like we need to keep learning some more syntax to be able to handle those edge cases."
   ]
  },
  {
   "cell_type": "markdown",
   "metadata": {
    "ExecuteTime": {
     "end_time": "2021-01-08T21:50:50.448132Z",
     "start_time": "2021-01-08T21:50:50.444446Z"
    }
   },
   "source": [
    "# New Operator: '+' (One or More)\n",
    "---\n",
    "The `'+'` operator indicates *one or more* of some specified characters. It allows us to match up to an infinite number of characters. A couple of examples could be:\n",
    "\n",
    "```python\n",
    "r'[0-9]+' # Match a sequence of digits containing number 0 to 9, of any length\n",
    "r'[a-z]+' # Match a sequence of letters from a-z, of any length\n",
    "r'a+'     # Match a sequence of a's, of any length\n",
    "```\n",
    "\n",
    "Let's search `lyrics` for Jenny's phone number using this new syntax."
   ]
  },
  {
   "cell_type": "code",
   "execution_count": 11,
   "metadata": {
    "ExecuteTime": {
     "end_time": "2021-01-09T00:06:16.075645Z",
     "start_time": "2021-01-09T00:06:16.071018Z"
    }
   },
   "outputs": [
    {
     "data": {
      "text/plain": [
       "['8675309']"
      ]
     },
     "execution_count": 11,
     "metadata": {},
     "output_type": "execute_result"
    }
   ],
   "source": [
    "re.findall(r'[0-9]+',lyrics) # we don't have to repeat the string 7 times... we're getting stronger..."
   ]
  },
  {
   "cell_type": "markdown",
   "metadata": {},
   "source": [
    "## Example: Finding an e-mail Address\n",
    "---\n",
    "An e-mail address follows the form *xxxx@xxxx.xxx* (I hate how this returns a link...). Let's assume that no numbers are allowed to be included in an e-mail (this makes our life easier). Using the `'+'` operator and compound expressions, this should be a breeze! Feel free to toy around with each character class of the pattern to learn more about the individual components. "
   ]
  },
  {
   "cell_type": "code",
   "execution_count": 18,
   "metadata": {
    "ExecuteTime": {
     "end_time": "2021-01-25T15:43:13.187280Z",
     "start_time": "2021-01-25T15:43:13.183614Z"
    }
   },
   "outputs": [
    {
     "name": "stdout",
     "output_type": "stream",
     "text": [
      "Give me jenny's email while you're at it ...  \n",
      " ['poor@jenny.com']\n"
     ]
    }
   ],
   "source": [
    "pattern = r'[a-z]+[@][a-z]+[.][a-z]+'\n",
    "email = 'If you can\\'t reach jenny by phone, here email poor@jenny.com is a great second option!'\n",
    "print(\"Give me jenny's email while you're at it ... \",'\\n',re.findall(pattern,email))"
   ]
  },
  {
   "cell_type": "markdown",
   "metadata": {},
   "source": [
    "# Character Class vs. Matching Directly\n",
    "---\n",
    "If you recall from some previous sections ago, we discussed the notion of character classes. A character class is a grouping of specified characters (i.e. numbers, letters, numbers and letters etc.). You can also choose to match directly if you exclude brackets around the pattern string. These behaviours are quite different if we want to match more than just a single character. Consider the examples below, and notice their different outputs.\n",
    "\n",
    "```python\n",
    "pattern = re.findall(r'[ab]','abcdefg') # returns ['a','b']\n",
    "pattern = re.findall(r'ab','abcdefg') # returns 'ab'\n",
    "```"
   ]
  },
  {
   "cell_type": "code",
   "execution_count": 13,
   "metadata": {
    "ExecuteTime": {
     "end_time": "2021-01-09T00:06:16.147243Z",
     "start_time": "2021-01-09T00:06:16.144068Z"
    }
   },
   "outputs": [
    {
     "name": "stdout",
     "output_type": "stream",
     "text": [
      "['Exact'] ['a', 'a', 'c', 'l', 'a', 's', 's']\n"
     ]
    }
   ],
   "source": [
    "print(re.findall(r\"Exact\",\"Match Exactly\"),\n",
    "      re.findall(r\"[class]\",\"Character Class\"))"
   ]
  },
  {
   "cell_type": "markdown",
   "metadata": {},
   "source": [
    "# New Operator: '|' (Or)\n",
    "---\n",
    "Formally, the new operator is called disjunction, but I find that to be confusing. Insead, whenever I see the '|' symbol, I read it as \"or\". The pseudocode below will show some code and the comment will describe how I would read it out loud.\n",
    "\n",
    "```python\n",
    "r'[a-z]|[0-9]' # give me a SINGLE letter OR a SINGLE digit\n",
    "r'[a-z]+|[0-9]+' # give me a sequence of any length of all letters OR a sequence of any length of all digits\n",
    "```\n",
    "\n",
    "An example is provided below. Notice that it does not mix letters and numbers. It only matches substrings of ANY length that are either ALL numbers **OR** ALL letters."
   ]
  },
  {
   "cell_type": "code",
   "execution_count": 19,
   "metadata": {
    "ExecuteTime": {
     "end_time": "2021-01-25T15:48:10.127315Z",
     "start_time": "2021-01-25T15:48:10.120580Z"
    }
   },
   "outputs": [
    {
     "data": {
      "text/plain": [
       "['hello', 'r', '2', 'd', '2']"
      ]
     },
     "execution_count": 19,
     "metadata": {},
     "output_type": "execute_result"
    }
   ],
   "source": [
    "re.findall(r'[0-9]+|[a-z]+','hello r2d2')"
   ]
  },
  {
   "cell_type": "markdown",
   "metadata": {},
   "source": [
    "## Example: Getting to know R2D2 Better\n",
    "---\n",
    "If we wanted to mix letters and numbers, we just have to move the \"|\" to a different place. By placing it within a character class such as `r'[a-z|0-9]+'`, it will grab a sequence of ANY length (hence the \"+\") operator that includes digits OR letters. Check it out below!"
   ]
  },
  {
   "cell_type": "code",
   "execution_count": 15,
   "metadata": {
    "ExecuteTime": {
     "end_time": "2021-01-09T00:06:16.214777Z",
     "start_time": "2021-01-09T00:06:16.210508Z"
    }
   },
   "outputs": [
    {
     "data": {
      "text/plain": [
       "['hello', 'r2d2']"
      ]
     },
     "execution_count": 15,
     "metadata": {},
     "output_type": "execute_result"
    }
   ],
   "source": [
    "re.findall(r'[0-9|a-z]+','hello r2d2')"
   ]
  },
  {
   "cell_type": "markdown",
   "metadata": {},
   "source": [
    "# New Operator: '?' (Optional)\n",
    "---\n",
    "The question mark makes the preceding character in the regular expression optional. We can specify which character can be optionally present. If we consider phone numbers, we may write them as:\n",
    "* 867 5309\n",
    "* 867-5309\n",
    "* 8675309\n",
    "\n",
    "Using this optional operator we can account for all of these cases! I will walk through the inner workings of the all encompassing phone grabber regex expression `r'[0-9]+[ -]?[0-9]+'`:\n",
    "* `'[0-9]+'` searches for any collection of digits between 0 and 9, of ANY length. \n",
    "* `'[ -]?` makes use of the optional character saying a SINGLE space or hyphen may optionally exist\n",
    "* Then we end with what we started, another expression grabbing a sequence of digits between 0 and 9 of ANY length.\n",
    "\n",
    "We test the code below, and see that it is working fairly well! All numbers are extracted correctly. We have some pretty simple code to extact ANY 7 digit phone number. That was fast! But let's keep learning!"
   ]
  },
  {
   "cell_type": "code",
   "execution_count": 21,
   "metadata": {
    "ExecuteTime": {
     "end_time": "2021-01-25T15:52:27.374336Z",
     "start_time": "2021-01-25T15:52:27.370982Z"
    }
   },
   "outputs": [
    {
     "name": "stdout",
     "output_type": "stream",
     "text": [
      "['867-5309']\n",
      "['8675309']\n",
      "['867 5309']\n"
     ]
    }
   ],
   "source": [
    "pattern = r'[0-9]+[ -]?[0-9]+'\n",
    "print(re.findall(pattern,'867-5309 is the magic number'))\n",
    "print(re.findall(pattern,'8675309 we get it... you like jenny'))\n",
    "print(re.findall(pattern,'This number 867 5309 is stuck in my head now'))"
   ]
  },
  {
   "cell_type": "markdown",
   "metadata": {},
   "source": [
    "# New Operator: '\\*'  (Zero or More)\n",
    "---\n",
    "The asterisks will match to zero or more copies of a specified pattern. In a sense, it is the combination of the optional operator ('?') and the One or More operator ('+').\n",
    "\n",
    "A good use case for this operator is handling floats/deccimals such as $0.5$ or $.5$. In this case, they are both equal but one does not have a leading $0$. This can be phrased as:\n",
    "\n",
    "> A float is a number **0 or more** leading numbers before the decimal point.\n",
    "\n",
    "The code below should be able to identify all float-like numbers (numbers that a have a decimal point)."
   ]
  },
  {
   "cell_type": "code",
   "execution_count": 35,
   "metadata": {
    "ExecuteTime": {
     "end_time": "2021-01-25T16:16:36.754525Z",
     "start_time": "2021-01-25T16:16:36.750075Z"
    }
   },
   "outputs": [
    {
     "name": "stdout",
     "output_type": "stream",
     "text": [
      ".793 is a large percentage!\n"
     ]
    }
   ],
   "source": [
    "pattern = r\"[0-9]*[.][0-9]+\"\n",
    "print(re.findall(pattern,\"A total of .793 of Candians love maple syrup!\")[0],\n",
    "      \"is a large percentage!\")"
   ]
  },
  {
   "cell_type": "markdown",
   "metadata": {},
   "source": [
    "# A Note on Escape Characters\n",
    "---\n",
    "There may be times where we want to match characters that are used in place for RegEx operations. For example, suppose we want to extract the `+` symbol from text. This requires us to inform the regex compiler to ignore the `+` as the *ONE OR MORE* operation, and instead treat it as a literal character. Doing so isn't hard, it just requires the addition of a backslash before the special character you want to match. \n",
    "\n",
    "I couldn't think of a fun example for escape characters since they aren't that cool. Run the code below to extract the addition symbol from the mathematical formula. \n",
    "\n",
    "Try deleting the backslash, and bad things will happen..."
   ]
  },
  {
   "cell_type": "code",
   "execution_count": 386,
   "metadata": {
    "ExecuteTime": {
     "end_time": "2021-01-26T00:08:38.817781Z",
     "start_time": "2021-01-26T00:08:38.814998Z"
    }
   },
   "outputs": [
    {
     "name": "stdout",
     "output_type": "stream",
     "text": [
      "The yin (+) and yang (-) of battery power\n"
     ]
    }
   ],
   "source": [
    "res = re.findall(r\"[\\+\\-]\",\"A battery consists of a positive (+) cathode and negative (-) anode.\")\n",
    "print(f\"The yin ({res[0]}) and yang ({res[1]}) of battery power\")"
   ]
  },
  {
   "cell_type": "markdown",
   "metadata": {},
   "source": [
    "# New Operator: '.' (Any Character)\n",
    "---\n",
    "Time to introduce the wildcard of the operator family. The `.` operator will match ANY character except the *new line character*. As a reminder, the new line character is the `\\n` escape sequence that tells a string to move to a new line. This operator will certainly clean up our code to extract phone numbers! "
   ]
  },
  {
   "cell_type": "code",
   "execution_count": 130,
   "metadata": {
    "ExecuteTime": {
     "end_time": "2021-01-25T17:42:45.937461Z",
     "start_time": "2021-01-25T17:42:45.933668Z"
    }
   },
   "outputs": [
    {
     "data": {
      "text/plain": [
       "['867-5309']"
      ]
     },
     "execution_count": 130,
     "metadata": {},
     "output_type": "execute_result"
    }
   ],
   "source": [
    "pattern = r\"[0-9]+.[0-9]+\"\n",
    "re.findall(pattern,\"Alright Mrs. 867-5309, let's stop playing number games\")"
   ]
  },
  {
   "cell_type": "markdown",
   "metadata": {},
   "source": [
    "# New Operator '^' (Exclude)\n",
    "---\n",
    "We can choose to avoid matching specific characters using the exclude operator (`^`) inside of a character class. This is the only time the caret works as an exclude operator! When it is outside of square brackets, it does not serve the same purpose. \n",
    "\n",
    "For example, if we want to exclude all vowels from the alphabet to obtain the list of all consonants, we may want to use the caret."
   ]
  },
  {
   "cell_type": "code",
   "execution_count": 232,
   "metadata": {
    "ExecuteTime": {
     "end_time": "2021-01-25T18:50:51.981009Z",
     "start_time": "2021-01-25T18:50:51.977570Z"
    }
   },
   "outputs": [
    {
     "name": "stdout",
     "output_type": "stream",
     "text": [
      "Go ahead, try and pronounce it: bcdefghijklmnopqrstuvwxyz\n"
     ]
    }
   ],
   "source": [
    "pattern = r\"[^aeiou][a-z]+\"\n",
    "consonants = re.findall(pattern,string.ascii_lowercase)\n",
    "print(f\"Read it five times fast: {consonants[0]}\")"
   ]
  },
  {
   "cell_type": "markdown",
   "metadata": {},
   "source": [
    "# Adding Parentheses\n",
    "---\n",
    "This is where regular expressions becomes rather confusing in my opinion. There is this notion of *capturing* and *non-capturing* expressions. \n",
    "* A *capturing* expression looks like \"I love (cats|dogs)\". This will return either \"cats\" or \"dogs\"\n",
    "* A *non-capturing* expression looks like \"I love (?:cats|dogs)\". This will return the full pattern match of \"I love cats\" or \"I love dogs\"\n",
    "\n",
    "**Rule of Thumb:** As far as I can gather, you will use (?:) 99% of the time. "
   ]
  },
  {
   "cell_type": "code",
   "execution_count": 299,
   "metadata": {
    "ExecuteTime": {
     "end_time": "2021-01-25T20:04:26.048123Z",
     "start_time": "2021-01-25T20:04:26.044827Z"
    }
   },
   "outputs": [
    {
     "name": "stdout",
     "output_type": "stream",
     "text": [
      "Capturing output:  ['dogs']\n",
      "Non-Capturing output: ['I love dogs']\n"
     ]
    }
   ],
   "source": [
    "s = \"I am an animal lover, and I love dogs the most!\"\n",
    "print('Capturing output: ',re.findall(r\"I love (dogs)\",s))\n",
    "print('Non-Capturing output:', re.findall(r\"I love (?:dogs)\",s))"
   ]
  },
  {
   "cell_type": "markdown",
   "metadata": {},
   "source": [
    "To better understand this, try running the code below with and without the `?:` operator. By removing the `?:`, we only retrieve the match with the string pattern `//`. By including, we receive the entire string."
   ]
  },
  {
   "cell_type": "code",
   "execution_count": 342,
   "metadata": {
    "ExecuteTime": {
     "end_time": "2021-01-25T20:19:40.009309Z",
     "start_time": "2021-01-25T20:19:40.005193Z"
    }
   },
   "outputs": [
    {
     "data": {
      "text/plain": [
       "['//www.']"
      ]
     },
     "execution_count": 342,
     "metadata": {},
     "output_type": "execute_result"
    }
   ],
   "source": [
    "s = \"This is an example of a website url https://www.google.com/ , kind of ugly tbh\"\n",
    "pattern1 = r\"(?://)[a-z.]{4}\"\n",
    "re.findall(pattern1,s)"
   ]
  },
  {
   "cell_type": "markdown",
   "metadata": {},
   "source": [
    "# Conclusion\n",
    "---\n",
    "Well that's all I have for my brief introduction to regular expressions using Python. We managed to write some pretty clean code that searches for phone numbers! Along the way we learned the following operators:\n",
    "* `[abc]`: Square brackets denote a character class which tells RegEx to pick up all elements contain within that list\n",
    "* `+` : The one or more operator picks up an infinite number of sequences that contain the preceding elements\n",
    "* `?`: Optional inclusion of all characters preceding it\n",
    "* `*` : Same as the `+` oeprator but it is **Zero or More**\n",
    "* `\\` : Backslashes allow regex patterns to pick up special characters such as `+` or `-`\n",
    "* `.` : The wildcard picks up any character except the newline character defined as `\\n`\n",
    "* `^` : We can choose to exclude character using carets within a character class (i.e. `[^ignoremore]`)\n",
    "* `(?: )` : We can group patterns together like we can group mathematical  expression. The use of the `?:` is highly encourage for most applications. "
   ]
  }
 ],
 "metadata": {
  "kernelspec": {
   "display_name": "mini-games",
   "language": "python",
   "name": "mini-games"
  },
  "language_info": {
   "codemirror_mode": {
    "name": "ipython",
    "version": 3
   },
   "file_extension": ".py",
   "mimetype": "text/x-python",
   "name": "python",
   "nbconvert_exporter": "python",
   "pygments_lexer": "ipython3",
   "version": "3.9.1"
  },
  "latex_envs": {
   "LaTeX_envs_menu_present": true,
   "autoclose": false,
   "autocomplete": true,
   "bibliofile": "biblio.bib",
   "cite_by": "apalike",
   "current_citInitial": 1,
   "eqLabelWithNumbers": true,
   "eqNumInitial": 1,
   "hotkeys": {
    "equation": "Ctrl-E",
    "itemize": "Ctrl-I"
   },
   "labels_anchors": false,
   "latex_user_defs": false,
   "report_style_numbering": false,
   "user_envs_cfg": false
  },
  "toc": {
   "base_numbering": 1,
   "nav_menu": {},
   "number_sections": true,
   "sideBar": true,
   "skip_h1_title": false,
   "title_cell": "Table of Contents",
   "title_sidebar": "Contents",
   "toc_cell": false,
   "toc_position": {},
   "toc_section_display": true,
   "toc_window_display": false
  }
 },
 "nbformat": 4,
 "nbformat_minor": 2
}
