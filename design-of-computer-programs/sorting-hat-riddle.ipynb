{
 "cells": [
  {
   "cell_type": "code",
   "execution_count": 1,
   "metadata": {
    "ExecuteTime": {
     "end_time": "2021-01-08T15:57:30.470824Z",
     "start_time": "2021-01-08T15:57:30.468667Z"
    }
   },
   "outputs": [],
   "source": [
    "from dataclasses import dataclass\n",
    "from itertools import combinations, permutations"
   ]
  },
  {
   "cell_type": "markdown",
   "metadata": {},
   "source": [
    "# Introduction\n",
    "---\n",
    "In this mini-blog we use python to solve the [sorting hat riddle](https://www.youtube.com/watch?v=auhrB0bSTEo&ab_channel=TED-Ed). Please take the time to watch the riddle if you are unfamiliar otherwise the next sections will not make much sense. \n",
    "\n",
    "# Breaking it Down\n",
    "---\n",
    "In high school *I always loved math but I despised the written problems*. I hated the abundance of words and their convoluted introductions. I struggled to break down the material into anything tangible. Clearly I have come a long way since I am now writing a blog that uses python to solve a riddle.\n",
    "\n",
    "I really like the idea of mapping a riddle solution to code for a couple of reasons:\n",
    "1. To solve the riddle you must *break down* the problem down into valuable pieces of information (an important skill in for a developper)\n",
    "2. Complex problems don't require complex solutions!\n",
    "\n",
    "Let's begin by creating a *concept inventory* of what we know.\n",
    "\n",
    "# Concept Inventory\n",
    "---\n",
    "The goal of this riddle is to assign the following characters in the photo below to their correct *house*. \n",
    "<img src=\"../photos/sorting-hat.png\" width=400 height=400 alt=\"The sorting hat characters\">\n",
    "The narrator has provided the following clues:\n",
    "1. The 8 founders started the 4 houses in pairs. Each individual was a founder of exactly one house.\n",
    "2. No pair of founders with same color hats founded the same house.\n",
    "3. No pairs of founders with the same symbols on their hats founded the same hats.\n",
    "4. Funflame and Imaginez founded Gianteye and Longmous (in some order)\n",
    "5. Miraculo and Rimbleby Longmous and Meramaid (in some order)\n",
    "6. Septimus didn't found Vidopnir\n",
    "\n",
    "# Data Representation\n",
    "---\n",
    "* We know that each house has exactly 2 founders. This tells us that a house should be a *Collection* (i.e. list, tuple, or set) of some sort. \n",
    "* There are 8 unique founders, each having a pre-assigned `color` and `symbol` attribute (key word \"attribute\"). This makes the riddle fairly different from the [zebra puzzle](https://en.wikipedia.org/wiki/Zebra_Puzzle), and therefore the same solution proposed by Peter Norvig will not apply! \n",
    "* The `name` attribute of each founder will be very important when solving the riddle computationally since it allows us to immediately accept / reject simulations. This will become more clear later on.\n",
    "* A class representation for the founder should be simple enough. Each `Founder` object has 3 attributes: (1) Name, (2) Color and (3) Symbol.\n",
    "\n",
    "\n",
    "Let's start by writing a simple class representation for the founders. We use the python native dataclass module to make our class definition nice and clean. Run the cell below to see how our Founder class is represented as an output."
   ]
  },
  {
   "cell_type": "code",
   "execution_count": 2,
   "metadata": {
    "ExecuteTime": {
     "end_time": "2021-01-08T15:57:30.513354Z",
     "start_time": "2021-01-08T15:57:30.510036Z"
    }
   },
   "outputs": [],
   "source": [
    "@dataclass\n",
    "class Founder:\n",
    "    name   : str\n",
    "    color  : str\n",
    "    symbol : str\n",
    "        \n",
    "f = Founder('Deepmire','blue','star')\n",
    "g = Founder('Imaginez','blue','star')"
   ]
  },
  {
   "cell_type": "markdown",
   "metadata": {},
   "source": [
    "## Improving the Founder Class\n",
    "---\n",
    "I think we can do better. \n",
    "\n",
    "We know that for 2 Founders to be compatible, they cannot have the same COLOR nor SYMBOL. One could paraphrase this as:\n",
    "> Two Founders are compatible if their colors are NOT equal AND their symbols are NOT equal.\n",
    "\n",
    "*NOT* and *AND* are highlighted since they are logical operators. We can build on this idea by overloading python operations. This is a slightly more advanced programming technique. For anyone interested in learning more about operator overloading check out [this resource](https://realpython.com/operator-function-overloading/).\n",
    "\n",
    "In my mind, I think we should overwrite the `__add__` dunder method so that it returns `True` when 2 founders have different `color` AND `symbol` attributes. This will make for nice syntaxing when begin to solve the riddle. Upon doing so we can expect the following:\n",
    "\n",
    "```python\n",
    "    # both `color` and `symbol` are different --> valid\n",
    "    (Founder('Imaginez','yellow','moon') + Founder('Deepmire','blue','star'))   == True \n",
    "    \n",
    "    # `color` is the same --> not valid\n",
    "    (Founder('Imaginez','yellow','moon') + Founder('Septimus','yellow','star')) == False \n",
    "```"
   ]
  },
  {
   "cell_type": "code",
   "execution_count": 3,
   "metadata": {
    "ExecuteTime": {
     "end_time": "2021-01-08T15:57:30.572031Z",
     "start_time": "2021-01-08T15:57:30.559640Z"
    }
   },
   "outputs": [
    {
     "data": {
      "text/plain": [
       "'Founder Unit Tests Pass'"
      ]
     },
     "execution_count": 3,
     "metadata": {},
     "output_type": "execute_result"
    }
   ],
   "source": [
    "@dataclass\n",
    "class Founder:\n",
    "    name   : str\n",
    "    color  : str\n",
    "    symbol : str\n",
    "    \n",
    "    def __ne__(self, other: Founder) -> bool:\n",
    "        \"\"\"Operator overloading of !=, return True if both color and symbol attributes \n",
    "        are different to `other`\"\"\"\n",
    "        return (self.color != other.color) and (self.symbol != other.symbol)\n",
    "    \n",
    "    def __add__(self, other: Founder) -> bool:\n",
    "        \"\"\"Operator overloading of `+`. Returns True if self != other.\"\"\"\n",
    "        return self != other\n",
    "    \n",
    "DEEPMIRE = Founder('deepmire','blue',  'star')\n",
    "FUNFLAME = Founder('funflame','red',   'squiggle')\n",
    "HYPNOTUM = Founder('hypnotum','red',   'star')\n",
    "IMAGINEZ = Founder('imaginez','yellow','moon')\n",
    "MIRACULO = Founder('miraculo','red',   'moon')\n",
    "RIMBLEBY = Founder('rimbleby','blue',  'moon')\n",
    "SEPTIMUS = Founder('septimus','yellow','star')\n",
    "TREMENDA = Founder('tremenda','blue','  squiggle')\n",
    "\n",
    "def test_founder():\n",
    "    \"\"\"Founder unit tests\"\"\"\n",
    "    assert not (DEEPMIRE + RIMBLEBY)\n",
    "    assert not (IMAGINEZ + SEPTIMUS) \n",
    "    assert     (IMAGINEZ + DEEPMIRE)\n",
    "    return \"Founder Unit Tests Pass\"\n",
    "\n",
    "test_founder()"
   ]
  },
  {
   "cell_type": "markdown",
   "metadata": {},
   "source": [
    "Perfect, tests pass and we have solved constraint #2 and #3! Let's move on.\n",
    "\n",
    "# Permutations\n",
    "---\n",
    "Each possiblity is a permutation, and for each permutation we subset the list of founders into groups of 2. Below is a general purpose function that runs through all permutations of a list `it` with length `n` and groups them into subsets of length `k`. Of course, we test! "
   ]
  },
  {
   "cell_type": "code",
   "execution_count": 4,
   "metadata": {
    "ExecuteTime": {
     "end_time": "2021-01-08T15:57:30.611406Z",
     "start_time": "2021-01-08T15:57:30.604956Z"
    }
   },
   "outputs": [
    {
     "data": {
      "text/plain": [
       "'k_permute tests pass'"
      ]
     },
     "execution_count": 4,
     "metadata": {},
     "output_type": "execute_result"
    }
   ],
   "source": [
    "founders = [DEEPMIRE, FUNFLAME, HYPNOTUM, IMAGINEZ,\n",
    "            MIRACULO, RIMBLEBY, SEPTIMUS, TREMENDA]\n",
    "\n",
    "def test_k_permute():\n",
    "    assert len(list(k_permute([1,2,3,4], 1))) == 24 # 4! = 24\n",
    "    assert len(list(k_permute([1,2,3,4], 2))) == 24 # the number of entries should not change with `k`\n",
    "    assert all([len(o) == 2 for o in k_permute([1,2,3,4],2)]) # all partitions should be length `k`\n",
    "    return 'k_permute tests pass'\n",
    "    \n",
    "\n",
    "def k_permute(it: list, k:int=1):\n",
    "    \"\"\"Permute over `it` and group into length `k` subsets\"\"\"\n",
    "    assert (k > 0) and isinstance(k,int)\n",
    "    for p in permutations(it):\n",
    "        yield [p[i:i+k] for i in range(0,len(p),k)]\n",
    "        \n",
    "test_k_permute()"
   ]
  },
  {
   "cell_type": "markdown",
   "metadata": {},
   "source": [
    "## Limitation of Permutations\n",
    "---\n",
    "Consider the k-permutations of the string `'abcd'`, where `k=2`. Two inevitable permutations will be `('a','b'),('c','d')` and `('b','a'),('c','d')`. When applying this to the riddle, we will run into some redundancies. Observe below that:\n",
    "> `house == ('a','b') == ('b','a')`\n",
    "\n",
    "That being said, we should estimate the total number of computations to get an idea of how our algorithm will perform. This is an important step before spending considerable time trying to optimize this algorithm for speed. Furthermore, in attempt of increasing speed, our solution will inevitably begin to look less elegant. Don't mean to brag, but the final solution is pretty sexy.\n",
    "\n",
    "The bulleted list below highlights my thought process when trying to determine the number of operations:\n",
    "* There are 8 unique founders, so the number of permutations are $8! = 40,320$. \n",
    "\n",
    "* For each permutation we perform a constant number of operations (i.e. we could say the inner workings of our loop is $O(c)$)\n",
    "\n",
    "* So in theory (if my logical reasoning is correct) our algorithm complexity is $O(k!)$ where k are the number of founders. Since this is a fixed riddle, $k = 8$ for any solution.\n",
    "\n",
    "* Therefore, worst case scenario we compute a total number of operations of $8! * c$\n",
    "\n",
    "* Looking into this a bit more, we perform 9 operations to check if an element is contained in a list. For anyone who is curious, the array operation of checking for inclusion has an algorithm complexity of $O(n)$, where n is the length of the list. The great news is, all of these lists are only of length = 2. This suggests that we perform $9 * 2 = 18$ basic operations when checking for inclusivity (worst case scenario). \n",
    "\n",
    "* The last \"if\" statement checks that all *houses* are compatible with each other (thanks to the beauty of operation overloadin!). Working it out, this is approximately 12 operations (4 iterations, 4 additions and a check for ALL statments being true for a list og length =4). Let's round up to 20 to account for the operation overloading that comes with the addition of two `Founder` classes, and likely some other errors I have made thus far). \n",
    "\n",
    "* Putting this all together, we have ~40-50 iterations contained within our loop that at most runs 40,320 times. So the total number of operations is somewhere between: $ 40 * 8! \\le n \\le 50 * 8!$. I extended the upper bound to 50 to really account for the likelihood of mistakes.\n",
    "\n",
    "* Considering the worst case scenario of 50 total operations, this algorithm will have to run ~2 million times, which is nothing for a modern day computer!! If you don't believe me, run the cell below that creates a list of 2 million entries. It only take ~75ms, give or take some error.\n",
    "\n",
    "**TLDR:** We don't have to optimize this algorithm, it will run in no time. "
   ]
  },
  {
   "cell_type": "code",
   "execution_count": 5,
   "metadata": {
    "ExecuteTime": {
     "end_time": "2021-01-08T15:57:36.914583Z",
     "start_time": "2021-01-08T15:57:30.648003Z"
    }
   },
   "outputs": [
    {
     "name": "stdout",
     "output_type": "stream",
     "text": [
      "76.4 ms ± 3.35 ms per loop (mean ± std. dev. of 7 runs, 10 loops each)\n"
     ]
    }
   ],
   "source": [
    "%timeit list(range(int(2e6)))"
   ]
  },
  {
   "cell_type": "markdown",
   "metadata": {},
   "source": [
    "# Solve\n",
    "---\n",
    "We use a generator expression to optimize the performance of our algorithm. A generator is a form of lazy execution wherre work is not done until commanded. The prompt to make a generator go is the built-in `next()` function. How does this benefit us? We explain this using 2 scenarios: (1) A lonely and dark world where generators do not exist and (2) The relaxed alternative of using generators.\n",
    "\n",
    "## Scenario 1: A for-loop implementation\n",
    "---\n",
    "A for-loop is a *promise* to commit $n$ number of operations. If we use this paradigm, then we are forced to consider EVERY possible solution. This is kind of annoying since we know that there is only 1 correct answer, so what happens if the 2nd iteration produced the correct result? We would then have to wait until EVERY other computation is performed before we receive our answer.\n",
    "\n",
    "Granted you could add an if statement to break out of the loop, but I don't find that to be very elegant.\n",
    "\n",
    "## Scenario 2: Lazy Execution Style\n",
    "---\n",
    "A generator will only return the next element if it satisifies the imposed constraints. If there are no constraints, then it will just return the next element. The code below is guaranteed to run through $m \\le n$ operations since it will return the FIRST element where all constraints are satisfied. \n",
    "\n",
    "I also just recently learned that generators allow for this very nice syntax of chaining if-statements without the need for indentation. Computationally, this provides no benefit, but from an elegance / code readability standpoint, I find it improves the quality of the solution.\n",
    "\n",
    "Rant complete. Please run the cell below to view the answer to this riddle. "
   ]
  },
  {
   "cell_type": "code",
   "execution_count": 6,
   "metadata": {
    "ExecuteTime": {
     "end_time": "2021-01-08T15:57:36.933616Z",
     "start_time": "2021-01-08T15:57:36.917266Z"
    }
   },
   "outputs": [
    {
     "data": {
      "text/plain": [
       "'Congratulations you solved the riddle!'"
      ]
     },
     "execution_count": 6,
     "metadata": {},
     "output_type": "execute_result"
    }
   ],
   "source": [
    "founders = [DEEPMIRE, FUNFLAME, HYPNOTUM, IMAGINEZ,\n",
    "            MIRACULO, RIMBLEBY, SEPTIMUS, TREMENDA]\n",
    "\n",
    "def sorting_hat():\n",
    "    \"\"\"generator expression for solving the sorting hat riddle\"\"\"\n",
    "    return next(((g,m,l,v) for g,m,l,v in k_permute(founders,2)\n",
    "                if SEPTIMUS not in v\n",
    "                if ((FUNFLAME in g) or (FUNFLAME in l)) and ((IMAGINEZ in g) or (IMAGINEZ in l))\n",
    "                if ((MIRACULO in m) or (MIRACULO in l)) and ((RIMBLEBY in m) or (RIMBLEBY in l))\n",
    "                if all([x + y for x,y in (g,m,l,v,)])))\n",
    "\n",
    "# test solution\n",
    "def test_sorting_hat():\n",
    "    \"\"\"If all tests pass, the riddle has been solved.\"\"\"\n",
    "    gianteye,meramaid,longmous,vidopnir = sorting_hat()\n",
    "    assert {o.name for o in gianteye} == {'deepmire','imaginez'}\n",
    "    assert {o.name for o in meramaid} == {'miraculo','septimus'}\n",
    "    assert {o.name for o in longmous} == {'funflame','rimbleby'}\n",
    "    assert {o.name for o in vidopnir} == {'hypnotum','tremenda'}\n",
    "    return \"Congratulations you solved the riddle!\"\n",
    "    \n",
    "test_sorting_hat()"
   ]
  },
  {
   "cell_type": "markdown",
   "metadata": {},
   "source": [
    "# Solution in Writing\n",
    "---\n",
    "Just for proof, here is the solution in writing. If you don't believe me, please skip ahead in the video where the answer is revealed."
   ]
  },
  {
   "cell_type": "code",
   "execution_count": 7,
   "metadata": {
    "ExecuteTime": {
     "end_time": "2021-01-08T15:57:36.950274Z",
     "start_time": "2021-01-08T15:57:36.937326Z"
    }
   },
   "outputs": [
    {
     "name": "stdout",
     "output_type": "stream",
     "text": [
      "Gianteye founders are DEEPMIRE and IMAGINEZ\n",
      "Meramaid founders are MIRACULO and SEPTIMUS\n",
      "Longmous founders are FUNFLAME and RIMBLEBY\n",
      "Vidopnir founders are HYPNOTUM and TREMENDA\n"
     ]
    }
   ],
   "source": [
    "# run solution\n",
    "gianteye,meramaid,longmous,vidopnir = sorting_hat()\n",
    "print('Gianteye founders are ' + ' and '.join([o.name.upper() for o in gianteye]))\n",
    "print('Meramaid founders are ' + ' and '.join([o.name.upper() for o in meramaid]))\n",
    "print('Longmous founders are ' + ' and '.join([o.name.upper() for o in longmous]))\n",
    "print('Vidopnir founders are ' + ' and '.join([o.name.upper() for o in vidopnir]))"
   ]
  },
  {
   "cell_type": "markdown",
   "metadata": {},
   "source": [
    "# Combinations\n",
    "---\n",
    "This bonus sections is intended for anyone who was interested in an algorithm that would partition the 8 founders using combinations rather than permutations. This code was extracted from [stack overflow](https://stackoverflow.com/questions/14559946/producing-all-groups-of-fixed-length-combinations) (I really can't take credit for this) and adopted so that it works with unhashable types (i.e. custom class objects). \n",
    "\n",
    "It is a recursive algorithm, and it took me forever to figure out how it works lol. This made me realize I need to do a mini-blog on recursion."
   ]
  },
  {
   "cell_type": "code",
   "execution_count": 8,
   "metadata": {
    "ExecuteTime": {
     "end_time": "2021-01-08T15:57:36.963520Z",
     "start_time": "2021-01-08T15:57:36.953314Z"
    }
   },
   "outputs": [
    {
     "data": {
      "text/plain": [
       "((Founder(name='tremenda', color='blue', symbol='  squiggle'),\n",
       "  Founder(name='deepmire', color='blue', symbol='star')),\n",
       " (Founder(name='septimus', color='yellow', symbol='star'),\n",
       "  Founder(name='funflame', color='red', symbol='squiggle')),\n",
       " (Founder(name='rimbleby', color='blue', symbol='moon'),\n",
       "  Founder(name='hypnotum', color='red', symbol='star')),\n",
       " (Founder(name='miraculo', color='red', symbol='moon'),\n",
       "  Founder(name='imaginez', color='yellow', symbol='moon')))"
      ]
     },
     "execution_count": 8,
     "metadata": {},
     "output_type": "execute_result"
    }
   ],
   "source": [
    "founders = [DEEPMIRE, FUNFLAME, HYPNOTUM, IMAGINEZ,\n",
    "            MIRACULO, RIMBLEBY, SEPTIMUS, TREMENDA]\n",
    "\n",
    "def partition(it: list, r: int):\n",
    "    \"\"\"Recursive algorithm that partitions list `it` into equal \n",
    "    subsets of length `r`.\"\"\"\n",
    "    assert (r > 0) and (isinstance(r,int))\n",
    "    assert len(it) % r == 0\n",
    "    \n",
    "    if len(it) == 0:\n",
    "        yield ()\n",
    "        return\n",
    "    x = (it.pop(),)\n",
    "    for c in combinations(it,r-1):\n",
    "        first = x + c\n",
    "        leftover = [o for o in it if o not in c]\n",
    "        for k in partition(leftover, r):\n",
    "            yield (first,) + k\n",
    "        \n",
    "    \n",
    "next(partition(founders,2))"
   ]
  }
 ],
 "metadata": {
  "kernelspec": {
   "display_name": "mini-games",
   "language": "python",
   "name": "mini-games"
  },
  "language_info": {
   "codemirror_mode": {
    "name": "ipython",
    "version": 3
   },
   "file_extension": ".py",
   "mimetype": "text/x-python",
   "name": "python",
   "nbconvert_exporter": "python",
   "pygments_lexer": "ipython3",
   "version": "3.9.1"
  },
  "latex_envs": {
   "LaTeX_envs_menu_present": true,
   "autoclose": false,
   "autocomplete": true,
   "bibliofile": "biblio.bib",
   "cite_by": "apalike",
   "current_citInitial": 1,
   "eqLabelWithNumbers": true,
   "eqNumInitial": 1,
   "hotkeys": {
    "equation": "Ctrl-E",
    "itemize": "Ctrl-I"
   },
   "labels_anchors": false,
   "latex_user_defs": false,
   "report_style_numbering": false,
   "user_envs_cfg": false
  },
  "toc": {
   "base_numbering": 1,
   "nav_menu": {},
   "number_sections": true,
   "sideBar": true,
   "skip_h1_title": false,
   "title_cell": "Table of Contents",
   "title_sidebar": "Contents",
   "toc_cell": false,
   "toc_position": {},
   "toc_section_display": true,
   "toc_window_display": false
  }
 },
 "nbformat": 4,
 "nbformat_minor": 2
}
