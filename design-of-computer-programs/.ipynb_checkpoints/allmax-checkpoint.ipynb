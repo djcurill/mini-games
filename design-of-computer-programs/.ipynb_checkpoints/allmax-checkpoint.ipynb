{
 "cells": [
  {
   "cell_type": "markdown",
   "metadata": {},
   "source": [
    "# Introduction\n",
    "---\n",
    "As I work through the course [Design of Computer Programs](https://classroom.udacity.com/courses/cs212/lessons/48688918/concepts/487235700923) I want to log my solutions as individual mini-notebooks in attempt to improve upon Peter Norvig's solutions. I am currently working through the first lessons of the course where we design a piece of software that scores poker hands. \n",
    "\n",
    "As we near the end of the lesson, we begin to refactor some functions to create a more flexible program. In its current state, the program is incapable of handling ties. That is, there is always just 1 winner. To account for this, Peter Norvig proposes the creation of a helper function call `allmax` that returns all values equivalent to the maximum. \n",
    "\n",
    "Wherever possible, it is smart to apply [test-driven development](https://en.wikipedia.org/wiki/Test-driven_development) where we write tests that define the expected behaviour of the function before we *actually* write the function. This practice promotes simpler software design and in my opinion, introduces less testing error due to bias than writing code, follows by testing. \n",
    "\n",
    "Let us begin by writing some simple tests :).\n",
    "\n",
    "# Unit Tests\n",
    "---\n",
    "The tests below elegantly define the behaviour of the `allmax`. It is a simple wrapper around the python `max` function. The only difference is it must return multiple values wherever numerous maximums coexist. "
   ]
  },
  {
   "cell_type": "code",
   "execution_count": 6,
   "metadata": {
    "ExecuteTime": {
     "end_time": "2021-01-04T22:11:14.491094Z",
     "start_time": "2021-01-04T22:11:14.485399Z"
    }
   },
   "outputs": [],
   "source": [
    "def test():\n",
    "    \"\"\"Test the correct functionality of `allmax` \"\"\"\n",
    "    assert allmax([0,1,2,3,3]) == [3,3]\n",
    "    assert allmax([0,1,2,3]) == [3]\n",
    "    assert allmax([0,1,2,3,-5], key=lambda x: x**2) == [-5]\n",
    "    assert allmax([5,1,2,3,-5], key=lambda x: x**2) == [5,-5]\n",
    "    return \"All tests pass!\""
   ]
  },
  {
   "cell_type": "markdown",
   "metadata": {
    "ExecuteTime": {
     "end_time": "2021-01-04T22:01:34.218014Z",
     "start_time": "2021-01-04T22:01:34.121071Z"
    }
   },
   "source": [
    "# Peter Norvig's Solution\n",
    "---\n",
    "The course's solution to this program seemed to be rather lengthy. The tests do all pass, but I think this solution could be improved upon if we made use of some built-in pythonic functions. "
   ]
  },
  {
   "cell_type": "code",
   "execution_count": 26,
   "metadata": {
    "ExecuteTime": {
     "end_time": "2021-01-04T22:35:16.421939Z",
     "start_time": "2021-01-04T22:35:03.656049Z"
    }
   },
   "outputs": [
    {
     "name": "stdout",
     "output_type": "stream",
     "text": [
      "1.56 ms ± 11.3 µs per loop (mean ± std. dev. of 7 runs, 1000 loops each)\n"
     ]
    }
   ],
   "source": [
    "def allmax(iterable, key=None):\n",
    "    result, maxval = [], None\n",
    "    key = key or (lambda x: x)\n",
    "    for x in iterable:\n",
    "        y = key(x)\n",
    "        if (not result) or (y > maxval):\n",
    "            result, maxval = [x], y\n",
    "        elif y == maxval:\n",
    "            result.append(x)\n",
    "    return result\n",
    "\n",
    "test()\n",
    "%timeit allmax([randint(-100,100) for _ in range(1000)],lambda x: x**2)"
   ]
  },
  {
   "cell_type": "markdown",
   "metadata": {},
   "source": [
    "# Refactoring the Solution\n",
    "---\n",
    "I decided to use the built-in `filter` function. By using a functional paradigm, I managed to greatly reduce the number of lines in my function. In pseudocode, the `filter` function could be written as:\n",
    "\n",
    "```python\n",
    "def filter(cond:callable, it:Iterable) -> Generator:\n",
    "    return (x for x in it if cond(x))\n",
    "```\n",
    "\n",
    "The function returns a generator, meaning nothing will immediately happend until *provoked*. We *provoke* the generator by calling other functional tool such as the `list` call. The `list` call will then awaken the beast and output all operations to a list.\n",
    "\n",
    "From a readibility / simplicity standpoint, I like the functional implementation below. We use less lines of code and it works! (all tests pass, yahoo!). So what's the catch? As with any design consideration, you must analyze the tradeoffs that come with it. We will discuss what we have sacrificed for increased readbility / simplicity / elegance. "
   ]
  },
  {
   "cell_type": "code",
   "execution_count": 17,
   "metadata": {
    "ExecuteTime": {
     "end_time": "2021-01-04T22:19:08.463713Z",
     "start_time": "2021-01-04T22:19:08.457266Z"
    }
   },
   "outputs": [
    {
     "data": {
      "text/plain": [
       "'All tests pass!'"
      ]
     },
     "execution_count": 17,
     "metadata": {},
     "output_type": "execute_result"
    }
   ],
   "source": [
    "def allmax(iterable, key=None):\n",
    "    \"Return a list of all items equal to the max of the iterable.\"\n",
    "    key = key or (lambda x: x)\n",
    "    globalmax = max(map(key, iterable))\n",
    "    return list(filter(lambda x: key(x) == globalmax, iterable))\n",
    "\n",
    "test()"
   ]
  },
  {
   "cell_type": "markdown",
   "metadata": {},
   "source": [
    "# The Tradeoff\n",
    "---\n",
    "Programming is a multi-dimensional effort, and sometimes we tradeoff speed for elegance. Should this be a function where speed is imperative, the Perter Norvig's solution would certainly be preferable. It turns out that my refactored implementation above has some redundancies... We highlight the differenes in bulletpoint form:\n",
    "* Mr. Norvig iterates through each value of the iterable only ONCE. He saves the maximum value only when a new value is registered or matched. This will scale much better when the size of iterables greatly increase.\n",
    "* Mr. Curilla on the other hand calls `max` over the ENTIRE iterable, saves this value, and then uses this value for his `filter` which is called over the ENTIRE iterable AGAIN.\n",
    "\n",
    "When explained so emphatically, it is easy to spot the differnces ;)\n",
    "\n",
    "# Off to the Races\n",
    "---\n",
    "Ok, it is time for a 1 vs. 1 showdown. The two code cells below will compare the time it takes to compute the value corresponding to the maximum square exponential. This is done over a list of 10,00 entries. The times shown below should reveal that peters solution is approximately 25% faster."
   ]
  },
  {
   "cell_type": "code",
   "execution_count": 29,
   "metadata": {
    "ExecuteTime": {
     "end_time": "2021-01-04T22:54:26.377351Z",
     "start_time": "2021-01-04T22:54:13.585864Z"
    }
   },
   "outputs": [
    {
     "name": "stdout",
     "output_type": "stream",
     "text": [
      "15.7 ms ± 175 µs per loop (mean ± std. dev. of 7 runs, 100 loops each)\n"
     ]
    }
   ],
   "source": [
    "from random import randint\n",
    "\n",
    "def allmax(iterable, key=None):\n",
    "    result, maxval = [], None\n",
    "    key = key or (lambda x: x)\n",
    "    for x in iterable:\n",
    "        y = key(x)\n",
    "        if (not result) or (y > maxval):\n",
    "            result, maxval = [x], y\n",
    "        elif y == maxval:\n",
    "            result.append(x)\n",
    "    return result\n",
    "\n",
    "%timeit allmax([randint(-100,100) for _ in range(10000)],lambda x: x**2)"
   ]
  },
  {
   "cell_type": "code",
   "execution_count": 28,
   "metadata": {
    "ExecuteTime": {
     "end_time": "2021-01-04T22:54:07.870738Z",
     "start_time": "2021-01-04T22:54:06.143577Z"
    }
   },
   "outputs": [
    {
     "name": "stdout",
     "output_type": "stream",
     "text": [
      "20.7 ms ± 888 µs per loop (mean ± std. dev. of 7 runs, 10 loops each)\n"
     ]
    }
   ],
   "source": [
    "def allmax(iterable, key=None):\n",
    "    \"Return a list of all items equal to the max of the iterable.\"\n",
    "    key = key or (lambda x: x)\n",
    "    globalmax = max(map(key, iterable))\n",
    "    return list(filter(lambda x: key(x) == globalmax, iterable))\n",
    "\n",
    "\n",
    "%timeit allmax([randint(-100,100) for _ in range(10000)],lambda x: x**2)"
   ]
  },
  {
   "cell_type": "markdown",
   "metadata": {},
   "source": [
    "# My Final Statement\n",
    "---\n",
    "Yes, Peter's solution is faster. Yes, this notebook is certainly overkill for designing such a simple function, but it highlights an important aspect when designing computer programming. If we consider the application at hand, we are designing a helper function that computes the winning poker hand. In the game of poker, we likely will have 2-7 people playing at a time, not 10,000. So is speed really necessary? \n",
    "\n",
    "To save my ass for writing slow code, I say no. The difference in computation times will be so marginal, no one would ever notice in real time! Instead, we should emphasize readability and elegance for the sake of the programmers and developpers who must maintain the codebase. That being said, many would argue that Peter's solution is more easily understandable should you not be familiar with functional programming. So maybe I did all of this for nothing ;). \n",
    "\n",
    "**TLDR**: \\ Fast code is great, but so is readable code! Play to to your audience, and understand when it is more suitable to optimize for speed vs. elegance. "
   ]
  }
 ],
 "metadata": {
  "kernelspec": {
   "display_name": "Python 3",
   "language": "python",
   "name": "python3"
  },
  "language_info": {
   "codemirror_mode": {
    "name": "ipython",
    "version": 3
   },
   "file_extension": ".py",
   "mimetype": "text/x-python",
   "name": "python",
   "nbconvert_exporter": "python",
   "pygments_lexer": "ipython3",
   "version": "3.6.6"
  },
  "latex_envs": {
   "LaTeX_envs_menu_present": true,
   "autoclose": false,
   "autocomplete": true,
   "bibliofile": "biblio.bib",
   "cite_by": "apalike",
   "current_citInitial": 1,
   "eqLabelWithNumbers": true,
   "eqNumInitial": 1,
   "hotkeys": {
    "equation": "Ctrl-E",
    "itemize": "Ctrl-I"
   },
   "labels_anchors": false,
   "latex_user_defs": false,
   "report_style_numbering": false,
   "user_envs_cfg": false
  },
  "toc": {
   "base_numbering": 1,
   "nav_menu": {},
   "number_sections": true,
   "sideBar": true,
   "skip_h1_title": false,
   "title_cell": "Table of Contents",
   "title_sidebar": "Contents",
   "toc_cell": false,
   "toc_position": {},
   "toc_section_display": true,
   "toc_window_display": false
  }
 },
 "nbformat": 4,
 "nbformat_minor": 2
}
